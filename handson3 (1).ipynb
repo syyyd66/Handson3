{
 "cells": [
  {
   "cell_type": "code",
   "execution_count": 41,
   "id": "8ba72eb8-a121-437b-913f-39bab205b982",
   "metadata": {},
   "outputs": [
    {
     "name": "stdin",
     "output_type": "stream",
     "text": [
      "Enter a number:  3\n"
     ]
    },
    {
     "name": "stdout",
     "output_type": "stream",
     "text": [
      "3 is odd\n"
     ]
    }
   ],
   "source": [
    "num = int(input(\"Enter a number: \"))\n",
    "def evenorodd(number):\n",
    "    if number % 2 == 0:\n",
    "        return \"is even\"\n",
    "    else:\n",
    "        return \"is odd\"\n",
    "\n",
    "print(num, (evenorodd(num)))\n"
   ]
  },
  {
   "cell_type": "code",
   "execution_count": 43,
   "id": "e069b299-d73b-483e-ba88-2a291724696d",
   "metadata": {},
   "outputs": [
    {
     "name": "stdout",
     "output_type": "stream",
     "text": [
      "Feet and Meters Converter\n",
      "\n",
      "Conversions Menu:\n",
      "a. Feet to Meters\n",
      "b. Meters to Feet\n"
     ]
    },
    {
     "name": "stdin",
     "output_type": "stream",
     "text": [
      "Select a conversion (a/b):  b\n",
      "\n",
      "Enter meters:  100\n"
     ]
    },
    {
     "name": "stdout",
     "output_type": "stream",
     "text": [
      "100.0 meters is 328.08 feet\n"
     ]
    },
    {
     "name": "stdin",
     "output_type": "stream",
     "text": [
      "Would you like to perform another conversion? (y/n):  y\n"
     ]
    },
    {
     "name": "stdout",
     "output_type": "stream",
     "text": [
      "Conversions Menu:\n",
      "a. Feet to Meters\n",
      "b. Meters to Feet\n"
     ]
    },
    {
     "name": "stdin",
     "output_type": "stream",
     "text": [
      "Select a conversion (a/b):  a\n",
      "\n",
      "Enter feet:  100\n"
     ]
    },
    {
     "name": "stdout",
     "output_type": "stream",
     "text": [
      "100.0 feet is 30.48 meters\n"
     ]
    },
    {
     "name": "stdin",
     "output_type": "stream",
     "text": [
      "Would you like to perform another conversion? (y/n):  n\n"
     ]
    },
    {
     "name": "stdout",
     "output_type": "stream",
     "text": [
      "\n",
      "Thanks, bye!\n"
     ]
    }
   ],
   "source": [
    "def f2m(feet):\n",
    "    meters = feet * 0.3048\n",
    "    return int(meters * 100) / 100\n",
    "\n",
    "def m2f(meters):\n",
    "    feet = meters / 0.3048\n",
    "    return int(feet * 100) / 100\n",
    "\n",
    "def main():\n",
    "    print(\"Feet and Meters Converter\\n\")\n",
    "    \n",
    "    while True:\n",
    "        print(\"Conversions Menu:\")\n",
    "        print(\"a. Feet to Meters\")\n",
    "        print(\"b. Meters to Feet\")\n",
    "        \n",
    "        conversion = input(\"Select a conversion (a/b): \")\n",
    "        \n",
    "        if conversion == 'a':\n",
    "            feet = float(input(\"\\nEnter feet: \"))\n",
    "            meters = f2m(feet)\n",
    "            print(feet, \"feet is\", meters, \"meters\")\n",
    "        \n",
    "        elif conversion == 'b':\n",
    "            meters = float(input(\"\\nEnter meters: \"))\n",
    "            feet = m2f(meters)\n",
    "            print(meters, \"meters is\", feet, \"feet\")\n",
    "        \n",
    "       \n",
    "        \n",
    "        another = input(\"Would you like to perform another conversion? (y/n): \")\n",
    "        \n",
    "        if another == 'n':\n",
    "            print(\"\\nThanks, bye!\")\n",
    "            break\n",
    "\n",
    "if __name__ == \"__main__\":\n",
    "    main()\n",
    "\n"
   ]
  },
  {
   "cell_type": "code",
   "execution_count": 4,
   "id": "2778075d-a9dc-4cd5-b390-772bbed4a6fe",
   "metadata": {},
   "outputs": [
    {
     "name": "stdout",
     "output_type": "stream",
     "text": [
      "Sales Tax Calculator\n",
      "\n",
      "Enter items (0 to end)\n"
     ]
    },
    {
     "name": "stdin",
     "output_type": "stream",
     "text": [
      "Cost of item:  6\n",
      "Cost of item:  6\n",
      "Cost of item:  7\n",
      "Cost of item:  0\n"
     ]
    },
    {
     "name": "stdout",
     "output_type": "stream",
     "text": [
      "\n",
      "Total: 19.00\n",
      "Sales tax:\t1.14\n",
      "Total after tax: 20.14\n",
      "\n"
     ]
    },
    {
     "name": "stdin",
     "output_type": "stream",
     "text": [
      "Again? (y/n):  y\n"
     ]
    },
    {
     "name": "stdout",
     "output_type": "stream",
     "text": [
      "Enter items (0 to end)\n"
     ]
    },
    {
     "name": "stdin",
     "output_type": "stream",
     "text": [
      "Cost of item:  66.9\n",
      "Cost of item:  56\n",
      "Cost of item:  0\n"
     ]
    },
    {
     "name": "stdout",
     "output_type": "stream",
     "text": [
      "\n",
      "Total: 122.90\n",
      "Sales tax:\t7.37\n",
      "Total after tax: 130.27\n",
      "\n"
     ]
    },
    {
     "name": "stdin",
     "output_type": "stream",
     "text": [
      "Again? (y/n):  n\n"
     ]
    },
    {
     "name": "stdout",
     "output_type": "stream",
     "text": [
      "\n",
      "Thanks, bye!\n"
     ]
    }
   ],
   "source": [
    "import sales_tax\n",
    "\n",
    "def get_item_costs():\n",
    "    total_cost = 0.0\n",
    "    while True:\n",
    "        item_cost = float(input(\"Cost of item: \"))\n",
    "        if item_cost == 0:\n",
    "            break\n",
    "        total_cost += item_cost\n",
    "    return total_cost\n",
    "\n",
    "def display_results(total_cost):\n",
    "    sales_tax_amount = sales_tax.calculate_sales_tax(total_cost)\n",
    "    total_after_tax = sales_tax.calculate_total_after_tax(total_cost)\n",
    "    \n",
    "    print(f\"\\nTotal: {total_cost:.2f}\")\n",
    "    print(f\"Sales tax:\\t{sales_tax_amount:.2f}\")\n",
    "    print(f\"Total after tax: {total_after_tax:.2f}\\n\")\n",
    "\n",
    "def main():\n",
    "    print(\"Sales Tax Calculator\\n\")\n",
    "    \n",
    "    while True:\n",
    "        print(\"Enter items (0 to end)\")\n",
    "        total_cost = get_item_costs()\n",
    "        display_results(total_cost)\n",
    "        \n",
    "        again = input(\"Again? (y/n): \").lower()\n",
    "        if again != 'y':\n",
    "            print(\"\\nThanks, bye!\")\n",
    "            break\n",
    "\n",
    "if __name__ == \"__main__\":\n",
    "    main()"
   ]
  },
  {
   "cell_type": "code",
   "execution_count": 44,
   "id": "f4910d65-eedb-421d-9baa-fae44502450a",
   "metadata": {},
   "outputs": [
    {
     "name": "stdout",
     "output_type": "stream",
     "text": [
      "Prime Number Checker\n",
      "\n"
     ]
    },
    {
     "name": "stdin",
     "output_type": "stream",
     "text": [
      "Please enter an integer between 1 and 5000:  1\n"
     ]
    },
    {
     "name": "stdout",
     "output_type": "stream",
     "text": [
      "1 is NOT a prime number.\n",
      "It has 1 factors.\n",
      "\n"
     ]
    },
    {
     "name": "stdin",
     "output_type": "stream",
     "text": [
      "Try again? (y/n):  y\n",
      "Please enter an integer between 1 and 5000:  2\n"
     ]
    },
    {
     "name": "stdout",
     "output_type": "stream",
     "text": [
      "2 is a prime number.\n",
      "\n"
     ]
    },
    {
     "name": "stdin",
     "output_type": "stream",
     "text": [
      "Try again? (y/n):  y\n",
      "Please enter an integer between 1 and 5000:  3\n"
     ]
    },
    {
     "name": "stdout",
     "output_type": "stream",
     "text": [
      "3 is a prime number.\n",
      "\n"
     ]
    },
    {
     "name": "stdin",
     "output_type": "stream",
     "text": [
      "Try again? (y/n):  y\n",
      "Please enter an integer between 1 and 5000:  4\n"
     ]
    },
    {
     "name": "stdout",
     "output_type": "stream",
     "text": [
      "4 is NOT a prime number.\n",
      "It has 3 factors.\n",
      "\n"
     ]
    },
    {
     "name": "stdin",
     "output_type": "stream",
     "text": [
      "Try again? (y/n):  n\n"
     ]
    },
    {
     "name": "stdout",
     "output_type": "stream",
     "text": [
      "Bye!\n"
     ]
    }
   ],
   "source": [
    "def is_prime(number):\n",
    "    if number <= 1:\n",
    "        return False\n",
    "    for i in range(2, int(number ** 0.5) + 1):\n",
    "        if number % i == 0:\n",
    "            return False\n",
    "    return True\n",
    "\n",
    "def count_factors(number):\n",
    "    factors = 0\n",
    "    for i in range(1, number + 1):\n",
    "        if number % i == 0:\n",
    "            factors += 1\n",
    "    return factors\n",
    "\n",
    "def main():\n",
    "    print(\"Prime Number Checker\\n\")\n",
    "    \n",
    "    while True:\n",
    "        number = int(input(\"Please enter an integer between 1 and 5000: \"))\n",
    "        \n",
    "        if number < 1 or number > 5000:\n",
    "            print(\"Invalid integer. Please try again.\")\n",
    "            continue\n",
    "        \n",
    "        if is_prime(number):\n",
    "            print(f\"{number} is a prime number.\\n\")\n",
    "        else:\n",
    "            factors = count_factors(number)\n",
    "            print(f\"{number} is NOT a prime number.\\nIt has {factors} factors.\\n\")\n",
    "        \n",
    "        again = input(\"Try again? (y/n): \").lower()\n",
    "        if again != 'y':\n",
    "            print(\"Bye!\")\n",
    "            break\n",
    "\n",
    "if __name__ == \"__main__\":\n",
    "    main()\n"
   ]
  },
  {
   "cell_type": "code",
   "execution_count": null,
   "id": "a85f8a7f-f184-42a5-8239-ffe28efe564f",
   "metadata": {},
   "outputs": [],
   "source": []
  }
 ],
 "metadata": {
  "kernelspec": {
   "display_name": "Python 3 (ipykernel)",
   "language": "python",
   "name": "python3"
  },
  "language_info": {
   "codemirror_mode": {
    "name": "ipython",
    "version": 3
   },
   "file_extension": ".py",
   "mimetype": "text/x-python",
   "name": "python",
   "nbconvert_exporter": "python",
   "pygments_lexer": "ipython3",
   "version": "3.11.7"
  }
 },
 "nbformat": 4,
 "nbformat_minor": 5
}
